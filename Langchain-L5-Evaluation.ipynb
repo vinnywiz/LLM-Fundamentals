{
 "cells": [
  {
   "cell_type": "markdown",
   "id": "52927836-709a-4f0a-bd9a-8d551e83e894",
   "metadata": {},
   "source": [
    "## LangChain: Evaluation\n",
    "\n",
    "### Outline:\n",
    "\n",
    "* Example generation\n",
    "* Manual evaluation (and debuging)\n",
    "* LLM-assisted evaluation"
   ]
  },
  {
   "cell_type": "code",
   "execution_count": 67,
   "id": "ae892a78-9bc4-4e6a-a174-6dec5de06ccf",
   "metadata": {},
   "outputs": [],
   "source": [
    "import os\n",
    "\n",
    "from dotenv import load_dotenv, find_dotenv\n",
    "_ = load_dotenv(find_dotenv()) # read local .env file"
   ]
  },
  {
   "cell_type": "code",
   "execution_count": 68,
   "id": "bc313921-46db-4579-997d-b4fde9ef0b51",
   "metadata": {},
   "outputs": [],
   "source": [
    "# account for deprecation of LLM model\n",
    "import datetime\n",
    "# Get the current date\n",
    "current_date = datetime.datetime.now().date()\n",
    "\n",
    "# Define the date after which the model should be set to \"gpt-3.5-turbo\"\n",
    "target_date = datetime.date(2024, 6, 12)\n",
    "\n",
    "# Set the model variable based on the current date\n",
    "if current_date > target_date:\n",
    "    llm_model = \"gpt-3.5-turbo\"\n",
    "else:\n",
    "    llm_model = \"gpt-3.5-turbo-0301\""
   ]
  },
  {
   "cell_type": "code",
   "execution_count": 69,
   "id": "1d167028-6225-4120-86c3-3f848c415f85",
   "metadata": {},
   "outputs": [],
   "source": [
    "# For creating vector store\n",
    "from langchain.indexes import VectorstoreIndexCreator\n",
    "#from langchain.vectorstores import DocArrayInMemorySearch\n",
    "from langchain.document_loaders import CSVLoader\n",
    "from langchain_community.vectorstores import DocArrayInMemorySearch\n",
    "from IPython.display import display, Markdown\n",
    "from langchain_openai import OpenAIEmbeddings\n",
    "from langchain_openai import ChatOpenAI\n",
    "from langchain.chains import RetrievalQA"
   ]
  },
  {
   "cell_type": "code",
   "execution_count": 84,
   "id": "3b7aa1b6-1196-44c2-b618-75b1c99fcc7e",
   "metadata": {},
   "outputs": [],
   "source": [
    "file = 'OutdoorClothingCatalog_1000.csv'\n",
    "loader = CSVLoader(file_path=file)\n",
    "data = loader.load()"
   ]
  },
  {
   "cell_type": "code",
   "execution_count": 85,
   "id": "fb40cc18-8a3d-49fa-b521-804ca023337d",
   "metadata": {},
   "outputs": [
    {
     "data": {
      "text/plain": [
       "list"
      ]
     },
     "execution_count": 85,
     "metadata": {},
     "output_type": "execute_result"
    }
   ],
   "source": [
    "type(data)"
   ]
  },
  {
   "cell_type": "markdown",
   "id": "bcefc693-7d2c-4f0e-8484-147e8761effa",
   "metadata": {},
   "source": [
    "### Index Creation\n",
    "This code creates an in-memory vector store index (index) that can search documents loaded from a source (defined by the loader variable) using their vector representations. This allows for efficient retrieval of relevant documents based on a search query."
   ]
  },
  {
   "cell_type": "code",
   "execution_count": 86,
   "id": "8b33868c-cb37-43d4-b9bd-019bc2684819",
   "metadata": {},
   "outputs": [],
   "source": [
    "index=VectorstoreIndexCreator(vectorstore_cls=DocArrayInMemorySearch, embedding=OpenAIEmbeddings()).from_loaders([loader])"
   ]
  },
  {
   "cell_type": "markdown",
   "id": "f23298f3-8d06-4cbc-815f-7b623994acc9",
   "metadata": {},
   "source": [
    "### Retrieval QA \n",
    "\n",
    "This code creates a RetrievalQA object that leverages the previously created vector store index (index) for retrieval and the provided LLM (llm) for answering questions. The retrieved documents will be separated by the specified string (\"<<<<>>>>>\") before being analyzed by the LLM to answer the user's query."
   ]
  },
  {
   "cell_type": "code",
   "execution_count": 87,
   "id": "21c948df-7d34-48ff-a215-372b81cc2e07",
   "metadata": {},
   "outputs": [],
   "source": [
    "llm=ChatOpenAI(temperature=0,model=llm_model)"
   ]
  },
  {
   "cell_type": "code",
   "execution_count": null,
   "id": "5a07ea50-6e78-41ee-9a29-47d2887d0866",
   "metadata": {},
   "outputs": [],
   "source": []
  },
  {
   "cell_type": "code",
   "execution_count": 88,
   "id": "dec4fa87-d43c-46d3-b8f9-64d7f4085cf8",
   "metadata": {},
   "outputs": [],
   "source": [
    "qa = RetrievalQA.from_chain_type(\n",
    "    llm=llm, \n",
    "    chain_type=\"stuff\", \n",
    "    retriever=index.vectorstore.as_retriever(), \n",
    "    verbose=True,\n",
    "    chain_type_kwargs = {\n",
    "        \"document_separator\": \"<<<<>>>>>\"\n",
    "    }\n",
    ")"
   ]
  },
  {
   "cell_type": "code",
   "execution_count": 89,
   "id": "346ec403-85a9-4952-96fb-380f961e396a",
   "metadata": {},
   "outputs": [
    {
     "data": {
      "text/plain": [
       "Document(page_content=': 1\\nname: Recycled Waterhog Dog Mat, Chevron Weave\\ndescription: Protect your floors from spills and splashing with our ultradurable recycled Waterhog dog mat made right here in the USA. \\n\\nSpecs\\nSmall - Dimensions: 18\" x 28\". \\nMedium - Dimensions: 22.5\" x 34.5\".\\n\\nWhy We Love It\\nMother nature, wet shoes and muddy paws have met their match with our Recycled Waterhog mats. Ruggedly constructed from recycled plastic materials, these ultratough mats help keep dirt and water off your floors and plastic out of landfills, trails and oceans. Now, that\\'s a win-win for everyone.\\n\\nFabric & Care\\nVacuum or hose clean.\\n\\nConstruction\\n24 oz. polyester fabric made from 94% recycled materials.\\nRubber backing.\\n\\nAdditional Features\\nFeatures an -exclusive design.\\nFeatures thick and thin fibers for scraping dirt and absorbing water.\\nDries quickly and resists fading, rotting, mildew and shedding.\\nUse indoors or out.\\nMade in the USA.\\n\\nHave questions? Reach out to our customer service team with any questions you may have.', metadata={'source': 'OutdoorClothingCatalog_1000.csv', 'row': 1})"
      ]
     },
     "execution_count": 89,
     "metadata": {},
     "output_type": "execute_result"
    }
   ],
   "source": [
    "#### Test data points\n",
    "data[1]"
   ]
  },
  {
   "cell_type": "markdown",
   "id": "49d8c478-d36e-455a-a635-c28c58169ec0",
   "metadata": {},
   "source": [
    "#### Hard coded examples"
   ]
  },
  {
   "cell_type": "code",
   "execution_count": 106,
   "id": "b42482ab-a126-4cc1-b9aa-c4c71883fbc3",
   "metadata": {},
   "outputs": [],
   "source": [
    "examples = [\n",
    "    {'qa_pairs':\n",
    "        {\"query\": \"Do the Cozy Comfort Pullover Set\\\n",
    "        have side pockets?\",\n",
    "        \"answer\": \"Yes\"\n",
    "        }\n",
    "    },\n",
    "    {'qa_pairs':\n",
    "         {\"query\": \"What collection is the Ultra-Lofty \\\n",
    "        850 Stretch Down Hooded Jacket from?\",\n",
    "        \"answer\": \"The DownTek collection\"\n",
    "         }\n",
    "    }\n",
    "]"
   ]
  },
  {
   "cell_type": "markdown",
   "id": "051ae1e9-5bb6-4c77-b99f-3694f229d59a",
   "metadata": {},
   "source": [
    "#### LLM Generated Examples"
   ]
  },
  {
   "cell_type": "code",
   "execution_count": 107,
   "id": "1025fe8c-4296-4859-a92b-a93f8cd290ea",
   "metadata": {},
   "outputs": [],
   "source": [
    "from langchain.evaluation.qa import QAGenerateChain"
   ]
  },
  {
   "cell_type": "code",
   "execution_count": 104,
   "id": "8e9f462b-f20c-444c-8aae-6fe409cbe6c3",
   "metadata": {},
   "outputs": [
    {
     "name": "stderr",
     "output_type": "stream",
     "text": [
      "/home/rahul/miniconda3/envs/pythonlab/lib/python3.10/site-packages/langchain/chains/llm.py:344: UserWarning: The apply_and_parse method is deprecated, instead pass an output parser directly to LLMChain.\n",
      "  warnings.warn(\n"
     ]
    }
   ],
   "source": [
    "# QA Generation\n",
    "\n",
    "example_gen_chain = QAGenerateChain.from_llm(ChatOpenAI())\n",
    "\n",
    "# auto generated Q/A\n",
    "new_examples = example_gen_chain.apply_and_parse(\n",
    "    [{\"doc\": t} for t in data[:3]]\n",
    ")"
   ]
  },
  {
   "cell_type": "code",
   "execution_count": 109,
   "id": "ba564bdc-dfc5-4572-8bb2-af4180774fc7",
   "metadata": {},
   "outputs": [
    {
     "data": {
      "text/plain": [
       "[{'qa_pairs': {'query': \"According to the document, what is the approximate weight of the Women's Campside Oxfords per pair?\",\n",
       "   'answer': \"The approximate weight of the Women's Campside Oxfords per pair is 1 lb. 1 oz.\"}},\n",
       " {'qa_pairs': {'query': 'What are the dimensions of the small and medium sizes for the Recycled Waterhog Dog Mat, Chevron Weave?',\n",
       "   'answer': 'The small size has dimensions of 18\" x 28\", while the medium size has dimensions of 22.5\" x 34.5\".'}},\n",
       " {'qa_pairs': {'query': \"What features does the Infant and Toddler Girls' Coastal Chill Swimsuit, Two-Piece have according to the document?\",\n",
       "   'answer': 'The swimsuit features bright colors, ruffles, exclusive whimsical prints, four-way-stretch and chlorine-resistant fabric, UPF 50+ rated fabric for sun protection, crossover no-slip straps, fully lined bottom, and it is recommended to be machine washed and line dried for best results.'}}]"
      ]
     },
     "execution_count": 109,
     "metadata": {},
     "output_type": "execute_result"
    }
   ],
   "source": [
    "new_examples#[0]#['query']"
   ]
  },
  {
   "cell_type": "code",
   "execution_count": 110,
   "id": "a7156458-d276-461d-b134-6cfdc8e2b288",
   "metadata": {},
   "outputs": [
    {
     "data": {
      "text/plain": [
       "\"According to the document, what is the approximate weight of the Women's Campside Oxfords per pair?\""
      ]
     },
     "execution_count": 110,
     "metadata": {},
     "output_type": "execute_result"
    }
   ],
   "source": [
    "new_examples[0]['qa_pairs']['query']"
   ]
  },
  {
   "cell_type": "code",
   "execution_count": 111,
   "id": "ba212e53-6b7f-497a-bb0b-e8c353d132c4",
   "metadata": {},
   "outputs": [
    {
     "data": {
      "text/plain": [
       "[{'qa_pairs': {'query': 'Do the Cozy Comfort Pullover Set        have side pockets?',\n",
       "   'answer': 'Yes'}},\n",
       " {'qa_pairs': {'query': 'What collection is the Ultra-Lofty         850 Stretch Down Hooded Jacket from?',\n",
       "   'answer': 'The DownTek collection'}}]"
      ]
     },
     "execution_count": 111,
     "metadata": {},
     "output_type": "execute_result"
    }
   ],
   "source": [
    "examples"
   ]
  },
  {
   "cell_type": "markdown",
   "id": "99a2b64d-b7b4-49ee-8317-9c4b9f82d4a5",
   "metadata": {},
   "source": [
    "#### Combine examples"
   ]
  },
  {
   "cell_type": "code",
   "execution_count": 112,
   "id": "d92ecc98-cd4b-4fb7-8473-3b67eb66bc29",
   "metadata": {},
   "outputs": [],
   "source": [
    "examples= examples + new_examples"
   ]
  },
  {
   "cell_type": "code",
   "execution_count": 114,
   "id": "b5df297e-fb0d-479f-98a4-9382f8b5cb6f",
   "metadata": {},
   "outputs": [
    {
     "name": "stdout",
     "output_type": "stream",
     "text": [
      "\n",
      "\n",
      "\u001b[1m> Entering new RetrievalQA chain...\u001b[0m\n",
      "\n",
      "\u001b[1m> Finished chain.\u001b[0m\n"
     ]
    },
    {
     "data": {
      "text/plain": [
       "\"The approximate weight of the Women's Campside Oxfords per pair is 1 lb. 1 oz.\""
      ]
     },
     "execution_count": 114,
     "metadata": {},
     "output_type": "execute_result"
    }
   ],
   "source": [
    "qa.run(examples[2]['qa_pairs'][\"query\"])"
   ]
  },
  {
   "cell_type": "markdown",
   "id": "9b85951c-d9f2-4639-a646-8e56f4fd5eff",
   "metadata": {},
   "source": [
    "### Manual Evaluation"
   ]
  },
  {
   "cell_type": "code",
   "execution_count": 115,
   "id": "5881718d-83c9-495f-a863-8a464007b875",
   "metadata": {},
   "outputs": [],
   "source": [
    "import langchain\n",
    "langchain.debug = True"
   ]
  },
  {
   "cell_type": "code",
   "execution_count": 116,
   "id": "042bfba7-1a1a-44bb-b9d7-bc3551219729",
   "metadata": {},
   "outputs": [
    {
     "name": "stdout",
     "output_type": "stream",
     "text": [
      "\u001b[32;1m\u001b[1;3m[chain/start]\u001b[0m \u001b[1m[1:chain:RetrievalQA] Entering Chain run with input:\n",
      "\u001b[0m{\n",
      "  \"query\": \"According to the document, what is the approximate weight of the Women's Campside Oxfords per pair?\"\n",
      "}\n",
      "\u001b[32;1m\u001b[1;3m[chain/start]\u001b[0m \u001b[1m[1:chain:RetrievalQA > 3:chain:StuffDocumentsChain] Entering Chain run with input:\n",
      "\u001b[0m[inputs]\n",
      "\u001b[32;1m\u001b[1;3m[chain/start]\u001b[0m \u001b[1m[1:chain:RetrievalQA > 3:chain:StuffDocumentsChain > 4:chain:LLMChain] Entering Chain run with input:\n",
      "\u001b[0m{\n",
      "  \"question\": \"According to the document, what is the approximate weight of the Women's Campside Oxfords per pair?\",\n",
      "  \"context\": \": 0\\nname: Women's Campside Oxfords\\ndescription: This ultracomfortable lace-to-toe Oxford boasts a super-soft canvas, thick cushioning, and quality construction for a broken-in feel from the first time you put them on. \\n\\nSize & Fit: Order regular shoe size. For half sizes not offered, order up to next whole size. \\n\\nSpecs: Approx. weight: 1 lb.1 oz. per pair. \\n\\nConstruction: Soft canvas material for a broken-in feel and look. Comfortable EVA innersole with Cleansport NXT® antimicrobial odor control. Vintage hunt, fish and camping motif on innersole. Moderate arch contour of innersole. EVA foam midsole for cushioning and support. Chain-tread-inspired molded rubber outsole with modified chain-tread pattern. Imported. \\n\\nQuestions? Please contact us for any inquiries.<<<<>>>>>: 299\\nname: Women's Trail Model 4 All-Weather Hiking Shoes\\ndescription: Supercomfortable lightweight hikers with a built-in waterproof membrane are versatile enough for casual wear and a wide variety of outdoor adventures. These shoes feature 's exclusive VertiGrip outsole which provides excellent traction on a variety of surfaces, as well as a suede-and-fabric upper with a waterproof TEK2.5® barrier to keep feet dry. Cushioned EVA midsole and removable footbed provide noticeable comfort right out of the box, and heel-and-toe bumpers add durability. Approximate weight: 1 lb. 13 oz. Imported.<<<<>>>>>: 846\\nname: Women's Katahdin Hiking Sneakers, Nubuck Mesh\\ndescription: These lightweight, breathable retro hikers are perfect for day hiking on gentle terrain or city streets. \\n\\nSize & Fit: Order regular shoe size. Size 10 1/2 wearers, order size 11.\\n\\nSpecs: Approx. Weight: 2 lb. 4 oz. per pair. Heel Height: 2½\\\".\\n\\nConstruction: Upper is full-grain nubuck leather and polyester mesh. Polyester mesh lining with odor and moisture control. Removable, mesh-covered EVA insole. Moderate arch contour provides excellent support. Euro-hiker-inspired stacked EVA midsole. Our exclusive VertaGrip rubber lugged outsole for traction. Padded collar and tongue for comfort. Perforations in tongue and sides add breathability. Nylon webbing pull-on loop at back heel. Thermoplastic toe box and heel counter. Imported.\\n\\nQuestions? Contact customer service for more information.<<<<>>>>>: 514\\nname: Women's Trail Model 4 All-Weather Hiking Shoes\\ndescription: Supercomfortable lightweight hikers with a built-in waterproof membrane.\\n\\nSpecs: Approx. weight: 1 lb. 13 oz.\\n\\nConstruction: 's exclusive VertiGrip outsole provides excellent traction on a variety of surfaces. Suede-and-fabric upper with a waterproof TEK2.5® barrier keeps feet dry. Cushioned EVA midsole and removable footbed provide noticeable comfort right out of the box. Heel-and-toe bumpers add durability.\\n\\nAdditional Features: Versatile enough for casual wear and a wide variety of outdoor adventures. Imported.\\n\\nQuestions? Please contact us for more information.\"\n",
      "}\n",
      "\u001b[32;1m\u001b[1;3m[llm/start]\u001b[0m \u001b[1m[1:chain:RetrievalQA > 3:chain:StuffDocumentsChain > 4:chain:LLMChain > 5:llm:ChatOpenAI] Entering LLM run with input:\n",
      "\u001b[0m{\n",
      "  \"prompts\": [\n",
      "    \"System: Use the following pieces of context to answer the user's question. \\nIf you don't know the answer, just say that you don't know, don't try to make up an answer.\\n----------------\\n: 0\\nname: Women's Campside Oxfords\\ndescription: This ultracomfortable lace-to-toe Oxford boasts a super-soft canvas, thick cushioning, and quality construction for a broken-in feel from the first time you put them on. \\n\\nSize & Fit: Order regular shoe size. For half sizes not offered, order up to next whole size. \\n\\nSpecs: Approx. weight: 1 lb.1 oz. per pair. \\n\\nConstruction: Soft canvas material for a broken-in feel and look. Comfortable EVA innersole with Cleansport NXT® antimicrobial odor control. Vintage hunt, fish and camping motif on innersole. Moderate arch contour of innersole. EVA foam midsole for cushioning and support. Chain-tread-inspired molded rubber outsole with modified chain-tread pattern. Imported. \\n\\nQuestions? Please contact us for any inquiries.<<<<>>>>>: 299\\nname: Women's Trail Model 4 All-Weather Hiking Shoes\\ndescription: Supercomfortable lightweight hikers with a built-in waterproof membrane are versatile enough for casual wear and a wide variety of outdoor adventures. These shoes feature 's exclusive VertiGrip outsole which provides excellent traction on a variety of surfaces, as well as a suede-and-fabric upper with a waterproof TEK2.5® barrier to keep feet dry. Cushioned EVA midsole and removable footbed provide noticeable comfort right out of the box, and heel-and-toe bumpers add durability. Approximate weight: 1 lb. 13 oz. Imported.<<<<>>>>>: 846\\nname: Women's Katahdin Hiking Sneakers, Nubuck Mesh\\ndescription: These lightweight, breathable retro hikers are perfect for day hiking on gentle terrain or city streets. \\n\\nSize & Fit: Order regular shoe size. Size 10 1/2 wearers, order size 11.\\n\\nSpecs: Approx. Weight: 2 lb. 4 oz. per pair. Heel Height: 2½\\\".\\n\\nConstruction: Upper is full-grain nubuck leather and polyester mesh. Polyester mesh lining with odor and moisture control. Removable, mesh-covered EVA insole. Moderate arch contour provides excellent support. Euro-hiker-inspired stacked EVA midsole. Our exclusive VertaGrip rubber lugged outsole for traction. Padded collar and tongue for comfort. Perforations in tongue and sides add breathability. Nylon webbing pull-on loop at back heel. Thermoplastic toe box and heel counter. Imported.\\n\\nQuestions? Contact customer service for more information.<<<<>>>>>: 514\\nname: Women's Trail Model 4 All-Weather Hiking Shoes\\ndescription: Supercomfortable lightweight hikers with a built-in waterproof membrane.\\n\\nSpecs: Approx. weight: 1 lb. 13 oz.\\n\\nConstruction: 's exclusive VertiGrip outsole provides excellent traction on a variety of surfaces. Suede-and-fabric upper with a waterproof TEK2.5® barrier keeps feet dry. Cushioned EVA midsole and removable footbed provide noticeable comfort right out of the box. Heel-and-toe bumpers add durability.\\n\\nAdditional Features: Versatile enough for casual wear and a wide variety of outdoor adventures. Imported.\\n\\nQuestions? Please contact us for more information.\\nHuman: According to the document, what is the approximate weight of the Women's Campside Oxfords per pair?\"\n",
      "  ]\n",
      "}\n",
      "\u001b[36;1m\u001b[1;3m[llm/end]\u001b[0m \u001b[1m[1:chain:RetrievalQA > 3:chain:StuffDocumentsChain > 4:chain:LLMChain > 5:llm:ChatOpenAI] [1.06s] Exiting LLM run with output:\n",
      "\u001b[0m{\n",
      "  \"generations\": [\n",
      "    [\n",
      "      {\n",
      "        \"text\": \"The approximate weight of the Women's Campside Oxfords per pair is 1 lb. 1 oz.\",\n",
      "        \"generation_info\": {\n",
      "          \"finish_reason\": \"stop\",\n",
      "          \"logprobs\": null\n",
      "        },\n",
      "        \"type\": \"ChatGeneration\",\n",
      "        \"message\": {\n",
      "          \"lc\": 1,\n",
      "          \"type\": \"constructor\",\n",
      "          \"id\": [\n",
      "            \"langchain\",\n",
      "            \"schema\",\n",
      "            \"messages\",\n",
      "            \"AIMessage\"\n",
      "          ],\n",
      "          \"kwargs\": {\n",
      "            \"content\": \"The approximate weight of the Women's Campside Oxfords per pair is 1 lb. 1 oz.\",\n",
      "            \"additional_kwargs\": {}\n",
      "          }\n",
      "        }\n",
      "      }\n",
      "    ]\n",
      "  ],\n",
      "  \"llm_output\": {\n",
      "    \"token_usage\": {\n",
      "      \"completion_tokens\": 23,\n",
      "      \"prompt_tokens\": 755,\n",
      "      \"total_tokens\": 778\n",
      "    },\n",
      "    \"model_name\": \"gpt-3.5-turbo-0301\",\n",
      "    \"system_fingerprint\": null\n",
      "  },\n",
      "  \"run\": null\n",
      "}\n",
      "\u001b[36;1m\u001b[1;3m[chain/end]\u001b[0m \u001b[1m[1:chain:RetrievalQA > 3:chain:StuffDocumentsChain > 4:chain:LLMChain] [1.06s] Exiting Chain run with output:\n",
      "\u001b[0m{\n",
      "  \"text\": \"The approximate weight of the Women's Campside Oxfords per pair is 1 lb. 1 oz.\"\n",
      "}\n",
      "\u001b[36;1m\u001b[1;3m[chain/end]\u001b[0m \u001b[1m[1:chain:RetrievalQA > 3:chain:StuffDocumentsChain] [1.06s] Exiting Chain run with output:\n",
      "\u001b[0m{\n",
      "  \"output_text\": \"The approximate weight of the Women's Campside Oxfords per pair is 1 lb. 1 oz.\"\n",
      "}\n",
      "\u001b[36;1m\u001b[1;3m[chain/end]\u001b[0m \u001b[1m[1:chain:RetrievalQA] [1.46s] Exiting Chain run with output:\n",
      "\u001b[0m{\n",
      "  \"result\": \"The approximate weight of the Women's Campside Oxfords per pair is 1 lb. 1 oz.\"\n",
      "}\n"
     ]
    },
    {
     "data": {
      "text/plain": [
       "\"The approximate weight of the Women's Campside Oxfords per pair is 1 lb. 1 oz.\""
      ]
     },
     "execution_count": 116,
     "metadata": {},
     "output_type": "execute_result"
    }
   ],
   "source": [
    "qa.run(examples[2]['qa_pairs'][\"query\"])"
   ]
  },
  {
   "cell_type": "code",
   "execution_count": 117,
   "id": "1fff44f8-ea74-4ef2-8184-daf60a1b1af6",
   "metadata": {},
   "outputs": [],
   "source": [
    "# Turn off the debug mode\n",
    "langchain.debug = False"
   ]
  },
  {
   "cell_type": "code",
   "execution_count": 121,
   "id": "5791f5f0-6e0f-4b1d-a686-a90505a802b3",
   "metadata": {},
   "outputs": [
    {
     "data": {
      "text/plain": [
       "[{'qa_pairs': {'query': 'Do the Cozy Comfort Pullover Set        have side pockets?',\n",
       "   'answer': 'Yes'}},\n",
       " {'qa_pairs': {'query': 'What collection is the Ultra-Lofty         850 Stretch Down Hooded Jacket from?',\n",
       "   'answer': 'The DownTek collection'}},\n",
       " {'qa_pairs': {'query': \"According to the document, what is the approximate weight of the Women's Campside Oxfords per pair?\",\n",
       "   'answer': \"The approximate weight of the Women's Campside Oxfords per pair is 1 lb. 1 oz.\"}},\n",
       " {'qa_pairs': {'query': 'What are the dimensions of the small and medium sizes for the Recycled Waterhog Dog Mat, Chevron Weave?',\n",
       "   'answer': 'The small size has dimensions of 18\" x 28\", while the medium size has dimensions of 22.5\" x 34.5\".'}},\n",
       " {'qa_pairs': {'query': \"What features does the Infant and Toddler Girls' Coastal Chill Swimsuit, Two-Piece have according to the document?\",\n",
       "   'answer': 'The swimsuit features bright colors, ruffles, exclusive whimsical prints, four-way-stretch and chlorine-resistant fabric, UPF 50+ rated fabric for sun protection, crossover no-slip straps, fully lined bottom, and it is recommended to be machine washed and line dried for best results.'}}]"
      ]
     },
     "execution_count": 121,
     "metadata": {},
     "output_type": "execute_result"
    }
   ],
   "source": [
    "examples"
   ]
  },
  {
   "cell_type": "markdown",
   "id": "ee5488dc-a486-45dc-a3af-c318b0b36990",
   "metadata": {},
   "source": [
    "### Removing one level of nesting 'qa_pairs'"
   ]
  },
  {
   "cell_type": "code",
   "execution_count": 122,
   "id": "9db777ff-1a5d-47c0-9e6b-e067093001e0",
   "metadata": {},
   "outputs": [],
   "source": [
    "for item in examples:\n",
    "    item.update(item.pop('qa_pairs'))"
   ]
  },
  {
   "cell_type": "code",
   "execution_count": 123,
   "id": "cdde5cd9-ed5d-44f2-9d9f-184462c3ca18",
   "metadata": {},
   "outputs": [
    {
     "data": {
      "text/plain": [
       "[{'query': 'Do the Cozy Comfort Pullover Set        have side pockets?',\n",
       "  'answer': 'Yes'},\n",
       " {'query': 'What collection is the Ultra-Lofty         850 Stretch Down Hooded Jacket from?',\n",
       "  'answer': 'The DownTek collection'},\n",
       " {'query': \"According to the document, what is the approximate weight of the Women's Campside Oxfords per pair?\",\n",
       "  'answer': \"The approximate weight of the Women's Campside Oxfords per pair is 1 lb. 1 oz.\"},\n",
       " {'query': 'What are the dimensions of the small and medium sizes for the Recycled Waterhog Dog Mat, Chevron Weave?',\n",
       "  'answer': 'The small size has dimensions of 18\" x 28\", while the medium size has dimensions of 22.5\" x 34.5\".'},\n",
       " {'query': \"What features does the Infant and Toddler Girls' Coastal Chill Swimsuit, Two-Piece have according to the document?\",\n",
       "  'answer': 'The swimsuit features bright colors, ruffles, exclusive whimsical prints, four-way-stretch and chlorine-resistant fabric, UPF 50+ rated fabric for sun protection, crossover no-slip straps, fully lined bottom, and it is recommended to be machine washed and line dried for best results.'}]"
      ]
     },
     "execution_count": 123,
     "metadata": {},
     "output_type": "execute_result"
    }
   ],
   "source": [
    "examples"
   ]
  },
  {
   "cell_type": "markdown",
   "id": "174834a2-92bf-4b99-945a-c82ba8d93b5c",
   "metadata": {},
   "source": [
    "### LLM assisted evaluation¶"
   ]
  },
  {
   "cell_type": "code",
   "execution_count": 124,
   "id": "aaa47815-d3ba-4328-8aeb-3b031e2296ba",
   "metadata": {},
   "outputs": [
    {
     "name": "stdout",
     "output_type": "stream",
     "text": [
      "\n",
      "\n",
      "\u001b[1m> Entering new RetrievalQA chain...\u001b[0m\n",
      "\n",
      "\u001b[1m> Finished chain.\u001b[0m\n",
      "\n",
      "\n",
      "\u001b[1m> Entering new RetrievalQA chain...\u001b[0m\n",
      "\n",
      "\u001b[1m> Finished chain.\u001b[0m\n",
      "\n",
      "\n",
      "\u001b[1m> Entering new RetrievalQA chain...\u001b[0m\n",
      "\n",
      "\u001b[1m> Finished chain.\u001b[0m\n",
      "\n",
      "\n",
      "\u001b[1m> Entering new RetrievalQA chain...\u001b[0m\n",
      "\n",
      "\u001b[1m> Finished chain.\u001b[0m\n",
      "\n",
      "\n",
      "\u001b[1m> Entering new RetrievalQA chain...\u001b[0m\n",
      "\n",
      "\u001b[1m> Finished chain.\u001b[0m\n"
     ]
    }
   ],
   "source": [
    "predictions=qa.apply(examples)"
   ]
  },
  {
   "cell_type": "code",
   "execution_count": 125,
   "id": "ef068507-73b5-4c72-b416-1f1e31ab4d37",
   "metadata": {},
   "outputs": [],
   "source": [
    "from langchain.evaluation.qa import QAEvalChain"
   ]
  },
  {
   "cell_type": "code",
   "execution_count": 126,
   "id": "3f43cefe-8f3a-4acd-86a4-defb8c5db09e",
   "metadata": {},
   "outputs": [],
   "source": [
    "llm=ChatOpenAI(temperature=0,model=llm_model)\n",
    "eval_chain=QAEvalChain.from_llm(llm=llm)\n"
   ]
  },
  {
   "cell_type": "code",
   "execution_count": 127,
   "id": "4c4a45e9-4f25-41ef-9cbf-fb5f93d980af",
   "metadata": {},
   "outputs": [],
   "source": [
    "graded_outputs= eval_chain.evaluate(examples,predictions)"
   ]
  },
  {
   "cell_type": "code",
   "execution_count": 128,
   "id": "115fa58f-fa16-4d52-af9c-e4df19be13ce",
   "metadata": {},
   "outputs": [
    {
     "data": {
      "text/plain": [
       "[{'query': 'Do the Cozy Comfort Pullover Set        have side pockets?',\n",
       "  'answer': 'Yes',\n",
       "  'result': 'The Cozy Comfort Pullover Set, Stripe does have side pockets.'},\n",
       " {'query': 'What collection is the Ultra-Lofty         850 Stretch Down Hooded Jacket from?',\n",
       "  'answer': 'The DownTek collection',\n",
       "  'result': 'The Ultra-Lofty 850 Stretch Down Hooded Jacket is from the DownTek collection.'},\n",
       " {'query': \"According to the document, what is the approximate weight of the Women's Campside Oxfords per pair?\",\n",
       "  'answer': \"The approximate weight of the Women's Campside Oxfords per pair is 1 lb. 1 oz.\",\n",
       "  'result': \"The approximate weight of the Women's Campside Oxfords per pair is 1 lb. 1 oz.\"},\n",
       " {'query': 'What are the dimensions of the small and medium sizes for the Recycled Waterhog Dog Mat, Chevron Weave?',\n",
       "  'answer': 'The small size has dimensions of 18\" x 28\", while the medium size has dimensions of 22.5\" x 34.5\".',\n",
       "  'result': 'The small size of the Recycled Waterhog Dog Mat, Chevron Weave has dimensions of 18\" x 28\" and the medium size has dimensions of 22.5\" x 34.5\".'},\n",
       " {'query': \"What features does the Infant and Toddler Girls' Coastal Chill Swimsuit, Two-Piece have according to the document?\",\n",
       "  'answer': 'The swimsuit features bright colors, ruffles, exclusive whimsical prints, four-way-stretch and chlorine-resistant fabric, UPF 50+ rated fabric for sun protection, crossover no-slip straps, fully lined bottom, and it is recommended to be machine washed and line dried for best results.',\n",
       "  'result': \"The Infant and Toddler Girls' Coastal Chill Swimsuit, Two-Piece has the following features according to the document:\\n- Bright colors, ruffles, and exclusive whimsical prints\\n- Four-way-stretch and chlorine-resistant fabric\\n- UPF 50+ rated fabric for sun protection\\n- Crossover no-slip straps and fully lined bottom for a secure fit and maximum coverage\\n- Machine wash and line dry for best results\\n- Imported\"}]"
      ]
     },
     "execution_count": 128,
     "metadata": {},
     "output_type": "execute_result"
    }
   ],
   "source": [
    "predictions"
   ]
  },
  {
   "cell_type": "code",
   "execution_count": 129,
   "id": "5b952d45-bef3-4574-af21-ff2dd73d4ea6",
   "metadata": {},
   "outputs": [
    {
     "data": {
      "text/plain": [
       "[{'results': 'CORRECT'},\n",
       " {'results': 'CORRECT'},\n",
       " {'results': 'CORRECT'},\n",
       " {'results': 'CORRECT'},\n",
       " {'results': 'CORRECT'}]"
      ]
     },
     "execution_count": 129,
     "metadata": {},
     "output_type": "execute_result"
    }
   ],
   "source": [
    "graded_outputs"
   ]
  },
  {
   "cell_type": "code",
   "execution_count": 130,
   "id": "dda7f86d-2f0d-462b-a42b-4efdf4e347e2",
   "metadata": {},
   "outputs": [
    {
     "name": "stdout",
     "output_type": "stream",
     "text": [
      "Example 0:\n",
      "Question: Do the Cozy Comfort Pullover Set        have side pockets?\n",
      "Real Answer: Yes\n",
      "Predicted Answer: The Cozy Comfort Pullover Set, Stripe does have side pockets.\n",
      "Grade: CORRECT\n",
      "\n",
      "Example 1:\n",
      "Question: What collection is the Ultra-Lofty         850 Stretch Down Hooded Jacket from?\n",
      "Real Answer: The DownTek collection\n",
      "Predicted Answer: The Ultra-Lofty 850 Stretch Down Hooded Jacket is from the DownTek collection.\n",
      "Grade: CORRECT\n",
      "\n",
      "Example 2:\n",
      "Question: According to the document, what is the approximate weight of the Women's Campside Oxfords per pair?\n",
      "Real Answer: The approximate weight of the Women's Campside Oxfords per pair is 1 lb. 1 oz.\n",
      "Predicted Answer: The approximate weight of the Women's Campside Oxfords per pair is 1 lb. 1 oz.\n",
      "Grade: CORRECT\n",
      "\n",
      "Example 3:\n",
      "Question: What are the dimensions of the small and medium sizes for the Recycled Waterhog Dog Mat, Chevron Weave?\n",
      "Real Answer: The small size has dimensions of 18\" x 28\", while the medium size has dimensions of 22.5\" x 34.5\".\n",
      "Predicted Answer: The small size of the Recycled Waterhog Dog Mat, Chevron Weave has dimensions of 18\" x 28\" and the medium size has dimensions of 22.5\" x 34.5\".\n",
      "Grade: CORRECT\n",
      "\n",
      "Example 4:\n",
      "Question: What features does the Infant and Toddler Girls' Coastal Chill Swimsuit, Two-Piece have according to the document?\n",
      "Real Answer: The swimsuit features bright colors, ruffles, exclusive whimsical prints, four-way-stretch and chlorine-resistant fabric, UPF 50+ rated fabric for sun protection, crossover no-slip straps, fully lined bottom, and it is recommended to be machine washed and line dried for best results.\n",
      "Predicted Answer: The Infant and Toddler Girls' Coastal Chill Swimsuit, Two-Piece has the following features according to the document:\n",
      "- Bright colors, ruffles, and exclusive whimsical prints\n",
      "- Four-way-stretch and chlorine-resistant fabric\n",
      "- UPF 50+ rated fabric for sun protection\n",
      "- Crossover no-slip straps and fully lined bottom for a secure fit and maximum coverage\n",
      "- Machine wash and line dry for best results\n",
      "- Imported\n",
      "Grade: CORRECT\n",
      "\n"
     ]
    }
   ],
   "source": [
    "for i,eg in enumerate(examples):\n",
    "    print(f\"Example {i}:\")\n",
    "    print(\"Question: \" + predictions[i]['query'])\n",
    "    print(\"Real Answer: \" + predictions[i]['answer'])\n",
    "    print(\"Predicted Answer: \" + predictions[i]['result'])\n",
    "    print(\"Grade: \" + graded_outputs[i]['results'])\n",
    "    print()\n"
   ]
  }
 ],
 "metadata": {
  "kernelspec": {
   "display_name": "Python 3 (ipykernel)",
   "language": "python",
   "name": "python3"
  },
  "language_info": {
   "codemirror_mode": {
    "name": "ipython",
    "version": 3
   },
   "file_extension": ".py",
   "mimetype": "text/x-python",
   "name": "python",
   "nbconvert_exporter": "python",
   "pygments_lexer": "ipython3",
   "version": "3.10.13"
  }
 },
 "nbformat": 4,
 "nbformat_minor": 5
}
